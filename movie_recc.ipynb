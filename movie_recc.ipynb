{
 "cells": [
  {
   "cell_type": "code",
   "execution_count": 22,
   "id": "9f31e2ee-a275-40c6-a7c7-d17b4afbf86c",
   "metadata": {},
   "outputs": [
    {
     "name": "stdout",
     "output_type": "stream",
     "text": [
      "0             Zack and Miri Make a Porno\n",
      "39                  My Week with Marilyn\n",
      "2     You Will Meet a Tall Dark Stranger\n",
      "13                        The Ugly Truth\n",
      "33                    Our Family Wedding\n",
      "Name: Film, dtype: object\n"
     ]
    }
   ],
   "source": [
    "import pandas as pd\n",
    "from sklearn.feature_extraction.text import TfidfVectorizer\n",
    "from sklearn.metrics.pairwise import linear_kernel\n",
    "\n",
    "movies=pd.read_csv('movies.csv')\n",
    "\n",
    "movies['Content']= movies['Genre']+' ' + movies['Lead Studio']\n",
    "\n",
    "converted=TfidfVectorizer(stop_words='english')\n",
    "converted_matrix=converted.fit_transform(movies['Content'])\n",
    "\n",
    "cosine_sim=linear_kernel(converted_matrix,converted_matrix)\n",
    "\n",
    "indices = pd.Series(movies.index, index=movies['Film']).drop_duplicates()\n",
    "\n",
    "# Recommender function\n",
    "def get_recommendations(title, cosine_sim=cosine_sim):\n",
    "    idx = indices[title]\n",
    "    sim_scores = list(enumerate(cosine_sim[idx]))\n",
    "    sim_scores = sorted(sim_scores, key=lambda x: x[1], reverse=True)[1:6]\n",
    "    movie_indices = [i[0] for i in sim_scores]\n",
    "    return movies['Film'].iloc[movie_indices]\n",
    "\n",
    "# Try it\n",
    "print(get_recommendations(\"Youth in Revolt\"))\n"
   ]
  },
  {
   "cell_type": "code",
   "execution_count": null,
   "id": "8aa77d97-b54a-45cf-9f9e-b957bd2feddc",
   "metadata": {},
   "outputs": [],
   "source": []
  }
 ],
 "metadata": {
  "kernelspec": {
   "display_name": "Python 3 (ipykernel)",
   "language": "python",
   "name": "python3"
  },
  "language_info": {
   "codemirror_mode": {
    "name": "ipython",
    "version": 3
   },
   "file_extension": ".py",
   "mimetype": "text/x-python",
   "name": "python",
   "nbconvert_exporter": "python",
   "pygments_lexer": "ipython3",
   "version": "3.12.4"
  }
 },
 "nbformat": 4,
 "nbformat_minor": 5
}
